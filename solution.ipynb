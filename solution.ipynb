{
 "cells": [
  {
   "cell_type": "markdown",
   "metadata": {},
   "source": [
    "# Mental health counseling ChatGPT Clone from Scratch"
   ]
  },
  {
   "cell_type": "markdown",
   "metadata": {},
   "source": [
    "## Task 1: Import Libraries"
   ]
  },
  {
   "cell_type": "code",
   "execution_count": 1,
   "metadata": {
    "is_executing": true
   },
   "outputs": [],
   "source": [
    "# import the librarys here\n",
    "import os\n",
    "from datasets import load_dataset\n",
    "import json\n",
    "from enum import Enum\n",
    "import random\n",
    "from openai import OpenAI"
   ]
  },
  {
   "cell_type": "markdown",
   "metadata": {},
   "source": [
    "## Task 2 : Create Classes for Dataset"
   ]
  },
  {
   "cell_type": "code",
   "execution_count": 2,
   "metadata": {},
   "outputs": [],
   "source": [
    "#  define the RoleType Enum here\n",
    "class RoleType(Enum):\n",
    "    USER = 'user'\n",
    "    SYSTEM = 'system'\n",
    "    ASSISTANT = 'assistant'\n"
   ]
  },
  {
   "cell_type": "code",
   "execution_count": 3,
   "metadata": {},
   "outputs": [],
   "source": [
    "# define the Role class here\n",
    "class Role:\n",
    "    def __init__(self, role_type: RoleType, content):\n",
    "        self.role = role_type.value\n",
    "        self.content = content\n",
    "        self.value = {'role': self.role, 'content': self.content}\n"
   ]
  },
  {
   "cell_type": "code",
   "execution_count": 4,
   "metadata": {},
   "outputs": [],
   "source": [
    "#  define the messsage class here\n",
    "class Message:\n",
    "    def __init__(self, user_content, system_content, assistant_content):\n",
    "        self.user_role = Role(role_type=RoleType.USER, content=user_content)\n",
    "        self.system_role = Role(role_type=RoleType.SYSTEM, content=system_content)\n",
    "        self.assistant_role = Role(role_type=RoleType.ASSISTANT, content=assistant_content)\n",
    "        self.message = {'messages':[self.system_role.value, self.user_role.value, self.assistant_role.value, ]} \n"
   ]
  },
  {
   "cell_type": "markdown",
   "metadata": {},
   "source": [
    "## Task 3 : Load, Explore and Store the Data"
   ]
  },
  {
   "cell_type": "code",
   "execution_count": 5,
   "metadata": {},
   "outputs": [
    {
     "name": "stderr",
     "output_type": "stream",
     "text": [
      "/Users/jyotishkumar/opt/anaconda3/lib/python3.8/site-packages/scipy/__init__.py:138: UserWarning: A NumPy version >=1.16.5 and <1.23.0 is required for this version of SciPy (detected version 1.24.3)\n",
      "  warnings.warn(f\"A NumPy version >={np_minversion} and <{np_maxversion} is required for this version of \"\n"
     ]
    }
   ],
   "source": [
    "# load the dataset \n",
    "dataset = load_dataset(\"Amod/mental_health_counseling_conversations\", split='train')"
   ]
  },
  {
   "cell_type": "code",
   "execution_count": 6,
   "metadata": {},
   "outputs": [
    {
     "name": "stdout",
     "output_type": "stream",
     "text": [
      "{'messages': [{'role': 'system', 'content': 'You serve as a supportive and honest psychology and psychotherapy assistant. Your main duty is to offer compassionate, understanding, and non-judgmental responses to users seeking emotional and psychological assistance. Respond with empathy and exhibit active listening skills. Your replies should convey that you comprehend the user’s emotions and worries. In cases where a user mentions thoughts of self-harm, suicide, or harm to others, prioritize their safety. Encourage them to seek immediate professional help and provide emergency contact details as needed. It’s important to note that you are not a licensed medical professional. Refrain from diagnosing or prescribing treatments. Instead, guide users to consult with a licensed therapist or medical expert for tailored advice. Never store or disclose any personal information shared by users. Uphold their privacy at all times. Avoid taking sides or expressing personal viewpoints. Your responsibility is to create a secure space for users to express themselves and reflect. Always aim to foster a supportive and understanding environment for users to share their emotions and concerns. Above all, prioritize their well-being and safety.'}, {'role': 'user', 'content': 'I am really worried about one of my friends because I think he has major depression. He disagrees with me on that. He is shut off when it comes to talking to people and telling them how he really feels. He told me he feels empty inside and the only emotions he feels are anger and sadness. I suggested to him to get help and talk to his mom about it but he refuses.'}, {'role': 'assistant', 'content': \"First of all, I can tell that you really care about your friend and I think it's great that you are reaching out with your concern. It's hard to determine whether your friend would meet the criteria for an official diagnosis of depression without working with him, however, whether he does or not, therapy may be beneficial for him in working through these difficult feelings and relational challenges. Unfortunately, you can't make your friend get help. He will ultimately need to make that decision for himself, however, you can talk to him about your concerns and your hopes that he will reach out for help.\"}]}\n"
     ]
    }
   ],
   "source": [
    "# Sample Message object\n",
    "context = dataset[152]['Context']\n",
    "response = dataset[152]['Response']\n",
    "system_content = \"You serve as a supportive and honest psychology and psychotherapy assistant. Your main duty is to offer compassionate, understanding, and non-judgmental responses to users seeking emotional and psychological assistance. Respond with empathy and exhibit active listening skills. Your replies should convey that you comprehend the user’s emotions and worries. In cases where a user mentions thoughts of self-harm, suicide, or harm to others, prioritize their safety. Encourage them to seek immediate professional help and provide emergency contact details as needed. It’s important to note that you are not a licensed medical professional. Refrain from diagnosing or prescribing treatments. Instead, guide users to consult with a licensed therapist or medical expert for tailored advice. Never store or disclose any personal information shared by users. Uphold their privacy at all times. Avoid taking sides or expressing personal viewpoints. Your responsibility is to create a secure space for users to express themselves and reflect. Always aim to foster a supportive and understanding environment for users to share their emotions and concerns. Above all, prioritize their well-being and safety.\"\n",
    "message_obj = Message(user_content=context, system_content=system_content, assistant_content = response )\n",
    "\n",
    "print(message_obj.message)"
   ]
  },
  {
   "cell_type": "code",
   "execution_count": 7,
   "metadata": {},
   "outputs": [
    {
     "name": "stdout",
     "output_type": "stream",
     "text": [
      "{'Context': \"I have a fear of something and I want to face that fear to overcome it, but I don't know how. What can I do?\", 'Response': 'Biologically, fear is designed to protect us from harm. Fear is not always a bad thing, and in fact can be quite healthy and appropriate depending on the situation.\\xa0A phobia, however, is different. You used the term \"fear\" rather than \"phobia\". A phobia is an irrational fear - meaning it is not rational for you to fear that thing. If your situation is a phobia, exposure therapy can help. This consists of gradually exposing yourself a little at a time to the thing you are afraid of. Some people with phobias find that the irrational fear interferes with their life and they do need to overcome it. Someone who is afraid to drive over bridges may go to great lengths to avoid routes that have bridges. People who are afraid of elevators may always use the stairs instead, which may not always be feasible. If overcoming a phobia will improve the quality of your life, then by all means, seek professional help to overcome it.Everyone has fears, or things that make them nervous. Public speaking, asking a person out, fear of failure. Examine what your fear is and try to determine the reason for the fear. When you can get to the root cause of the fear, you can deal with that issue. A lot of times, it is a self-esteem issue. You may be able to peel back the layers of the fear and find out what\\'s causing it and deal with the real issue.\\xa0Some fears are caused by trauma. Someone with PTSD is going to have an exaggerated fear response and will find themselves being kicked into \"fight or flight\" mode over things that someone without the trauma experience wouldn\\'t notice or react to. In cases like this, exposure therapy would be the wrong approach and could actually make things worse. If there is a possibility that a past trauma is the cause of your fear, I strongly urge you to seek a therapist - not just any therapist, but one who is trained to work with trauma and abuse victims.'}\n",
      "{'messages': [{'role': 'system', 'content': 'You serve as a supportive and honest psychology and psychotherapy assistant. Your main duty is to offer compassionate, understanding, and non-judgmental responses to users seeking emotional and psychological assistance. Respond with empathy and exhibit active listening skills. Your replies should convey that you comprehend the user’s emotions and worries. In cases where a user mentions thoughts of self-harm, suicide, or harm to others, prioritize their safety. Encourage them to seek immediate professional help and provide emergency contact details as needed. It’s important to note that you are not a licensed medical professional. Refrain from diagnosing or prescribing treatments. Instead, guide users to consult with a licensed therapist or medical expert for tailored advice. Never store or disclose any personal information shared by users. Uphold their privacy at all times. Avoid taking sides or expressing personal viewpoints. Your responsibility is to create a secure space for users to express themselves and reflect. Always aim to foster a supportive and understanding environment for users to share their emotions and concerns. Above all, prioritize their well-being and safety.'}, {'role': 'user', 'content': \"I have a fear of something and I want to face that fear to overcome it, but I don't know how. What can I do?\"}, {'role': 'assistant', 'content': 'Biologically, fear is designed to protect us from harm. Fear is not always a bad thing, and in fact can be quite healthy and appropriate depending on the situation.\\xa0A phobia, however, is different. You used the term \"fear\" rather than \"phobia\". A phobia is an irrational fear - meaning it is not rational for you to fear that thing. If your situation is a phobia, exposure therapy can help. This consists of gradually exposing yourself a little at a time to the thing you are afraid of. Some people with phobias find that the irrational fear interferes with their life and they do need to overcome it. Someone who is afraid to drive over bridges may go to great lengths to avoid routes that have bridges. People who are afraid of elevators may always use the stairs instead, which may not always be feasible. If overcoming a phobia will improve the quality of your life, then by all means, seek professional help to overcome it.Everyone has fears, or things that make them nervous. Public speaking, asking a person out, fear of failure. Examine what your fear is and try to determine the reason for the fear. When you can get to the root cause of the fear, you can deal with that issue. A lot of times, it is a self-esteem issue. You may be able to peel back the layers of the fear and find out what\\'s causing it and deal with the real issue.\\xa0Some fears are caused by trauma. Someone with PTSD is going to have an exaggerated fear response and will find themselves being kicked into \"fight or flight\" mode over things that someone without the trauma experience wouldn\\'t notice or react to. In cases like this, exposure therapy would be the wrong approach and could actually make things worse. If there is a possibility that a past trauma is the cause of your fear, I strongly urge you to seek a therapist - not just any therapist, but one who is trained to work with trauma and abuse victims.'}]}\n"
     ]
    }
   ],
   "source": [
    "#  create the train_dataset variable\n",
    "sampled_dataset = random.choices(dataset, k=100)\n",
    "train_dataset = []\n",
    "\n",
    "# Print the sampled data to verify\n",
    "print(sampled_dataset[1])\n",
    "\n",
    "for row in sampled_dataset:\n",
    "    message_obj = Message(user_content=row['Context'], system_content=system_content, assistant_content=row['Response'])\n",
    "    train_dataset.append(message_obj.message)\n",
    "\n",
    "print(train_dataset[1])"
   ]
  },
  {
   "cell_type": "code",
   "execution_count": 11,
   "metadata": {},
   "outputs": [],
   "source": [
    "# save data in JSONl format \n",
    "def save_to_jsonl(data, file_path):\n",
    "    with open(file_path, 'w') as file:\n",
    "        for row in data:\n",
    "            line = json.dumps(row)\n",
    "            file.write(line + '\\n')\n",
    "\n",
    "\n",
    "# Store the data in JSONL format\n",
    "training_data_path = '/Users/jyotishkumar/PROJECTS/jyotish/PYTHON/chatbot_ai/train.jsonl'\n",
    "save_to_jsonl(train_dataset[:-5], training_data_path)\n",
    "\n",
    "validation_data_path = '/Users/jyotishkumar/PROJECTS/jyotish/PYTHON/chatbot_ai/validation.jsonl'\n",
    "save_to_jsonl(train_dataset[-5:], validation_data_path)"
   ]
  },
  {
   "cell_type": "markdown",
   "metadata": {},
   "source": [
    "## Task 4 : Fine Tune the Model"
   ]
  },
  {
   "cell_type": "code",
   "execution_count": 12,
   "metadata": {},
   "outputs": [],
   "source": [
    "# load the training and validation files\n",
    "training_data = open(training_data_path, \"rb\")\n",
    "validation_data = open(validation_data_path, \"rb\")"
   ]
  },
  {
   "cell_type": "code",
   "execution_count": 16,
   "metadata": {},
   "outputs": [],
   "source": [
    "#  add OpenAI api_key\n",
    "api_key = 'YOUR-API=KEY'\n",
    "client = OpenAI(api_key=api_key)"
   ]
  },
  {
   "cell_type": "code",
   "execution_count": 17,
   "metadata": {},
   "outputs": [
    {
     "name": "stdout",
     "output_type": "stream",
     "text": [
      "Training file id: file-h5uyQLvvsElkHIuBVxeMKEF7\n",
      "Validation file id: file-Q6CTNqW8yAkcBBN2rss0bG3V\n"
     ]
    }
   ],
   "source": [
    "# Upload the training and validation files\n",
    "training_response = client.files.create(file=training_data, purpose=\"fine-tune\")\n",
    "training_file_id = training_response.id\n",
    "\n",
    "validation_response = client.files.create(file=validation_data, purpose=\"fine-tune\")\n",
    "validation_file_id = validation_response.id\n",
    "\n",
    "print(\"Training file id:\", training_file_id)\n",
    "print(\"Validation file id:\", validation_file_id)"
   ]
  },
  {
   "cell_type": "code",
   "execution_count": 18,
   "metadata": {},
   "outputs": [
    {
     "name": "stdout",
     "output_type": "stream",
     "text": [
      "FineTuningJob(id='ftjob-wEcKcvJQBV4pH6PEGl1PvV69', created_at=1731824905, error=Error(code=None, message=None, param=None), fine_tuned_model=None, finished_at=None, hyperparameters=Hyperparameters(n_epochs='auto', batch_size='auto', learning_rate_multiplier='auto'), model='gpt-3.5-turbo-0125', object='fine_tuning.job', organization_id='org-c2jI2lYztN2xjHAYTUiSmsVv', result_files=[], seed=1615570161, status='validating_files', trained_tokens=None, training_file='file-h5uyQLvvsElkHIuBVxeMKEF7', validation_file='file-Q6CTNqW8yAkcBBN2rss0bG3V', estimated_finish=None, integrations=[], user_provided_suffix='my-test-model')\n"
     ]
    }
   ],
   "source": [
    "# create a fine-tuning job\n",
    "response = client.fine_tuning.jobs.create(\n",
    "    training_file=training_file_id,\n",
    "    model=\"gpt-3.5-turbo\",\n",
    "    suffix=\"my-test-model\",\n",
    "    validation_file=validation_file_id\n",
    ")\n",
    "\n",
    "job_id = response.id\n",
    "\n",
    "print(response)"
   ]
  },
  {
   "cell_type": "code",
   "execution_count": 19,
   "metadata": {},
   "outputs": [
    {
     "name": "stdout",
     "output_type": "stream",
     "text": [
      "FineTuningJob(id='ftjob-wEcKcvJQBV4pH6PEGl1PvV69', created_at=1731824905, error=Error(code=None, message=None, param=None), fine_tuned_model=None, finished_at=None, hyperparameters=Hyperparameters(n_epochs=3, batch_size=1, learning_rate_multiplier=2), model='gpt-3.5-turbo-0125', object='fine_tuning.job', organization_id='org-c2jI2lYztN2xjHAYTUiSmsVv', result_files=[], seed=1615570161, status='running', trained_tokens=None, training_file='file-h5uyQLvvsElkHIuBVxeMKEF7', validation_file='file-Q6CTNqW8yAkcBBN2rss0bG3V', estimated_finish=1731825491, integrations=[], user_provided_suffix='my-test-model')\n"
     ]
    }
   ],
   "source": [
    "# retrieve the job status\n",
    "job_id = response.id\n",
    "\n",
    "job_status = client.fine_tuning.jobs.retrieve(job_id)\n",
    "print(job_status)"
   ]
  },
  {
   "cell_type": "markdown",
   "metadata": {},
   "source": [
    "## Task 5 : Test the Fine-Tuned Model"
   ]
  },
  {
   "cell_type": "code",
   "execution_count": 20,
   "metadata": {},
   "outputs": [],
   "source": [
    "# create and store message dictionaries\n",
    "system_message = \"\"\"You serve as a supportive and honest psychology and psychotherapy assistant. Your main duty is to offer compassionate, understanding, and non-judgmental responses to users seeking emotional and psychological assistance. Respond with empathy and exhibit active listening skills. Your replies should convey that you comprehend the user's emotions and worries. In cases where a user mentions thoughts of self-harm, suicide, or harm to others, prioritize their safety. Encourage them to seek immediate professional help and provide emergency contact details as needed. It's important to note that you are not a licensed medical professional. Refrain from diagnosing or prescribing treatments. Instead, guide users to consult with a licensed therapist or medical expert for tailored advice. Never store or disclose any personal information shared by users. Uphold their privacy at all times. Avoid taking sides or expressing personal viewpoints. Your responsibility is to create a secure space for users to express themselves and reflect. Always aim to foster a supportive and understanding environment for users to share their emotions and concerns. Above all, prioritize their well-being and safety.\"\"\"\n",
    "\n",
    "messages = []\n",
    "messages.append({\"role\": \"system\", \"content\": system_message})\n",
    "user_message = \"Every winter I find myself getting sad because of the weather. How can I fight this?\"\n",
    "messages.append({\"role\": \"user\", \"content\": user_message})"
   ]
  },
  {
   "cell_type": "code",
   "execution_count": 21,
   "metadata": {},
   "outputs": [
    {
     "name": "stdout",
     "output_type": "stream",
     "text": [
      "ChatCompletionMessage(content=\"I'm sorry to hear that you're feeling down during the winter months. It's not uncommon to experience seasonal changes in mood, known as Seasonal Affective Disorder (SAD). Here are some strategies that may help you combat these feelings:\\n\\n1. **Light Therapy**: Consider using a light therapy box that mimics natural sunlight to help regulate your mood.\\n2. **Regular Exercise**: Physical activity can boost your mood and energy levels. Even a short walk outside can make a difference.\\n3. **Healthy Diet**: Eating nutritious foods can support your mental health. Consider adding more fruits, vegetables, and whole grains to your meals.\\n4. **Social Connections**: Stay connected with loved ones and friends, even if it's through virtual means. Social support can be a great source of comfort.\\n5. **Mindfulness and Relaxation Techniques**: Practices like meditation, deep breathing, or yoga can help reduce stress and improve your mood.\\n6. **Professional Help**: Consider reaching out to a therapist or counselor who can provide you with additional support and coping strategies.\\n\\nRemember, it's okay to ask for help when you need it. Your mental health is important, and there are resources available to support you through this challenging time. If you ever feel overwhelmed or need someone to talk to, don't hesitate to seek help from a mental health professional. Would you like more information on any of these strategies?\", refusal=None, role='assistant', audio=None, function_call=None, tool_calls=None)\n"
     ]
    }
   ],
   "source": [
    "# test the fine-tuned chat completion model\n",
    "completion = client.chat.completions.create(\n",
    "    model= response.model,\n",
    "    messages=messages\n",
    ")\n",
    "print(completion.choices[0].message)"
   ]
  },
  {
   "cell_type": "code",
   "execution_count": 23,
   "metadata": {},
   "outputs": [
    {
     "name": "stdout",
     "output_type": "stream",
     "text": [
      "ChatCompletionMessage(content=\"It's common to feel a bit down during the winter months due to the changes in weather and light. One approach to combatting this could be trying to maximize exposure to natural light by spending time outdoors during daylight hours or using a light therapy box.\\n\\nEngaging in regular physical activity, eating a balanced diet, and maintaining a regular sleep schedule can also help boost your mood. Additionally, staying socially connected with friends and loved ones, as well as practicing relaxation techniques such as deep breathing or mindfulness, may also contribute to improving your overall well-being.\\n\\nIf you find that your winter blues impact your daily functioning or persist despite these efforts, it may be beneficial to consult with a mental health professional for further support and guidance. Remember, you are not alone in feeling this way, and seeking help is a positive step towards feeling better.\", refusal=None, role='assistant', audio=None, function_call=None, tool_calls=None)\n"
     ]
    }
   ],
   "source": [
    "# Get and compare the output of the gpt-3.5-turbo chat completion model\n",
    "completion = client.chat.completions.create(\n",
    "    model= \"gpt-3.5-turbo\",\n",
    "    messages=messages\n",
    ")\n",
    "print(completion.choices[0].message)"
   ]
  },
  {
   "cell_type": "code",
   "execution_count": null,
   "metadata": {},
   "outputs": [],
   "source": []
  }
 ],
 "metadata": {
  "kernelspec": {
   "display_name": "Python 3",
   "language": "python",
   "name": "python3"
  },
  "language_info": {
   "codemirror_mode": {
    "name": "ipython",
    "version": 3
   },
   "file_extension": ".py",
   "mimetype": "text/x-python",
   "name": "python",
   "nbconvert_exporter": "python",
   "pygments_lexer": "ipython3",
   "version": "3.8.8"
  },
  "vscode": {
   "interpreter": {
    "hash": "31f2aee4e71d21fbe5cf8b01ff0e069b9275f58929596ceb00d14d90e3e16cd6"
   }
  }
 },
 "nbformat": 4,
 "nbformat_minor": 2
}
